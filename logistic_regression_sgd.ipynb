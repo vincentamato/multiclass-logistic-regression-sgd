{
  "nbformat": 4,
  "nbformat_minor": 0,
  "metadata": {
    "colab": {
      "provenance": []
    },
    "kernelspec": {
      "name": "python3",
      "display_name": "Python 3"
    },
    "language_info": {
      "name": "python"
    }
  },
  "cells": [
    {
      "cell_type": "code",
      "execution_count": 73,
      "metadata": {
        "id": "B0hdGOZnDMsf"
      },
      "outputs": [],
      "source": [
        "import numpy as np\n",
        "import matplotlib.pyplot as plt\n",
        "from keras.datasets import mnist\n",
        "from keras.utils import to_categorical\n",
        "%matplotlib inline"
      ]
    },
    {
      "cell_type": "code",
      "source": [
        "# load the MNIST dataset\n",
        "(x_train, y_train), (x_test, y_test) = mnist.load_data()\n",
        "\n",
        "# flatten the images\n",
        "x_train = x_train.reshape(x_train.shape[0], -1)\n",
        "x_test = x_test.reshape(x_test.shape[0], -1)\n",
        "\n",
        "# convert the images to float32\n",
        "x_train = x_train.astype('float32')\n",
        "x_test = x_test.astype('float32')\n",
        "\n",
        "# normalize the images\n",
        "x_train /= 255.0\n",
        "x_test /= 255.0\n",
        "\n",
        "# one-hot encode the labels\n",
        "y_train = to_categorical(y_train, num_classes=10)\n",
        "y_test = to_categorical(y_test, num_classes=10)\n",
        "\n",
        "print(\"train_X shape: \", x_train.shape)\n",
        "print(\"train_y shape: \", y_train.shape)"
      ],
      "metadata": {
        "colab": {
          "base_uri": "https://localhost:8080/"
        },
        "id": "D3UTAljNEBsQ",
        "outputId": "2920b8e3-d53a-4147-92b8-d8efe4529058"
      },
      "execution_count": 74,
      "outputs": [
        {
          "output_type": "stream",
          "name": "stdout",
          "text": [
            "train_X shape:  (60000, 784)\n",
            "train_y shape:  (60000, 10)\n"
          ]
        }
      ]
    },
    {
      "cell_type": "code",
      "source": [
        "# the softmax function\n",
        "def softmax(z):\n",
        "  exp_z = np.exp(z - np.max(z, axis=1, keepdims=True))\n",
        "  return exp_z / np.sum(exp_z, axis=1, keepdims=True)"
      ],
      "metadata": {
        "id": "h9my14PmgBs9"
      },
      "execution_count": 75,
      "outputs": []
    },
    {
      "cell_type": "code",
      "source": [
        "# define the logistic regression using SGD\n",
        "class LogisticRegressionSGD:\n",
        "\n",
        "  def __init__(self, num_features, num_classes, batch_size, learning_rate, num_epochs, sigma=0.01):\n",
        "    self.num_classes = num_classes\n",
        "    self.num_features = num_features\n",
        "    self.batch_size = batch_size\n",
        "    self.learning_rate = learning_rate\n",
        "    self.num_epochs = num_epochs\n",
        "    self.w = np.random.normal(0, sigma, (num_features, num_classes))\n",
        "    self.b = np.zeros(num_classes)\n",
        "    self.loss_history = []\n",
        "\n",
        "  def calculate_logits(self, X):\n",
        "    return X @ self.w + self.b\n",
        "\n",
        "  def calculate_probs(self, logits):\n",
        "    return softmax(logits)\n",
        "\n",
        "  def loss(self, X, Y):\n",
        "    logits = self.calculate_logits(X)\n",
        "    probs = self.calculate_probs(logits)\n",
        "    return -np.mean(np.sum(Y * np.log(probs), axis=1))\n",
        "\n",
        "  def compute_gradients(self, X, Y):\n",
        "    logits = self.calculate_logits(X)\n",
        "    probs = self.calculate_probs(logits)\n",
        "    m = X.shape[0]\n",
        "    dz = probs - Y\n",
        "    dW = X.T @ dz / m\n",
        "    db = np.sum(dz, axis=0) / m\n",
        "    return dW, db\n",
        "\n",
        "  def update_parameters(self, dW, db):\n",
        "    self.w -= self.learning_rate * dW\n",
        "    self.b -= self.learning_rate * db\n",
        "\n",
        "  def train(self, X, Y):\n",
        "    num_examples = X.shape[0]\n",
        "    num_batches = num_examples // self.batch_size\n",
        "\n",
        "    for epoch in range(self.num_epochs):\n",
        "      indicies = np.arange(num_examples)\n",
        "      np.random.shuffle(indicies)\n",
        "\n",
        "      X_shuffled = X[indicies]\n",
        "      Y_shuffled = Y[indicies]\n",
        "\n",
        "      for i in range(num_batches):\n",
        "        X_batch = X_shuffled[i * self.batch_size: (i + 1) * self.batch_size]\n",
        "        Y_batch = Y_shuffled[i * self.batch_size: (i + 1) * self.batch_size]\n",
        "\n",
        "        dW, db = self.compute_gradients(X_batch, Y_batch)\n",
        "        self.update_parameters(dW, db)\n",
        "\n",
        "      current_loss = self.loss(X, Y)\n",
        "      self.loss_history.append(current_loss)\n",
        "      print(f\"Epoch {epoch + 1}/{self.num_epochs} - Loss: {current_loss:.4f}\")\n",
        "\n",
        "  def accuracy(self, X, Y):\n",
        "    logits = self.calculate_logits(X)\n",
        "    probs = self.calculate_probs(logits)\n",
        "    predictions = np.argmax(probs, axis=1)\n",
        "    labels = np.argmax(Y, axis=1)\n",
        "    accuracy = np.mean(predictions == labels) * 100\n",
        "    return accuracy"
      ],
      "metadata": {
        "id": "UtYq8olrEG0H"
      },
      "execution_count": 76,
      "outputs": []
    },
    {
      "cell_type": "code",
      "source": [
        "# set the random seed\n",
        "np.random.seed(0)\n",
        "\n",
        "# get the number of features and classes\n",
        "num_features = x_train.shape[1]\n",
        "num_classes = y_train.shape[1]\n",
        "\n",
        "# hyperparamters\n",
        "batch_size = 64\n",
        "learning_rate = 0.01\n",
        "num_epochs = 50\n",
        "\n",
        "# build and train the model\n",
        "model = LogisticRegressionSGD(x_train.shape[1], y_train.shape[1], batch_size, learning_rate, num_epochs)\n",
        "model.train(x_train, y_train)"
      ],
      "metadata": {
        "colab": {
          "base_uri": "https://localhost:8080/"
        },
        "id": "ORucxk2KrXXN",
        "outputId": "b1622fe8-a243-4339-8aae-0ece34305347"
      },
      "execution_count": 80,
      "outputs": [
        {
          "output_type": "stream",
          "name": "stdout",
          "text": [
            "Epoch 1/50 - Loss: 0.6255\n",
            "Epoch 2/50 - Loss: 0.4995\n",
            "Epoch 3/50 - Loss: 0.4482\n",
            "Epoch 4/50 - Loss: 0.4185\n",
            "Epoch 5/50 - Loss: 0.3989\n",
            "Epoch 6/50 - Loss: 0.3847\n",
            "Epoch 7/50 - Loss: 0.3736\n",
            "Epoch 8/50 - Loss: 0.3646\n",
            "Epoch 9/50 - Loss: 0.3571\n",
            "Epoch 10/50 - Loss: 0.3509\n",
            "Epoch 11/50 - Loss: 0.3456\n",
            "Epoch 12/50 - Loss: 0.3410\n",
            "Epoch 13/50 - Loss: 0.3368\n",
            "Epoch 14/50 - Loss: 0.3330\n",
            "Epoch 15/50 - Loss: 0.3298\n",
            "Epoch 16/50 - Loss: 0.3267\n",
            "Epoch 17/50 - Loss: 0.3241\n",
            "Epoch 18/50 - Loss: 0.3215\n",
            "Epoch 19/50 - Loss: 0.3191\n",
            "Epoch 20/50 - Loss: 0.3170\n",
            "Epoch 21/50 - Loss: 0.3150\n",
            "Epoch 22/50 - Loss: 0.3132\n",
            "Epoch 23/50 - Loss: 0.3115\n",
            "Epoch 24/50 - Loss: 0.3098\n",
            "Epoch 25/50 - Loss: 0.3082\n",
            "Epoch 26/50 - Loss: 0.3071\n",
            "Epoch 27/50 - Loss: 0.3055\n",
            "Epoch 28/50 - Loss: 0.3041\n",
            "Epoch 29/50 - Loss: 0.3029\n",
            "Epoch 30/50 - Loss: 0.3017\n",
            "Epoch 31/50 - Loss: 0.3006\n",
            "Epoch 32/50 - Loss: 0.2996\n",
            "Epoch 33/50 - Loss: 0.2986\n",
            "Epoch 34/50 - Loss: 0.2976\n",
            "Epoch 35/50 - Loss: 0.2966\n",
            "Epoch 36/50 - Loss: 0.2959\n",
            "Epoch 37/50 - Loss: 0.2948\n",
            "Epoch 38/50 - Loss: 0.2942\n",
            "Epoch 39/50 - Loss: 0.2934\n",
            "Epoch 40/50 - Loss: 0.2925\n",
            "Epoch 41/50 - Loss: 0.2917\n",
            "Epoch 42/50 - Loss: 0.2910\n",
            "Epoch 43/50 - Loss: 0.2903\n",
            "Epoch 44/50 - Loss: 0.2897\n",
            "Epoch 45/50 - Loss: 0.2889\n",
            "Epoch 46/50 - Loss: 0.2885\n",
            "Epoch 47/50 - Loss: 0.2878\n",
            "Epoch 48/50 - Loss: 0.2872\n",
            "Epoch 49/50 - Loss: 0.2865\n",
            "Epoch 50/50 - Loss: 0.2860\n"
          ]
        }
      ]
    },
    {
      "cell_type": "code",
      "source": [
        "# plot the loss history\n",
        "plt.plot(model.loss_history)\n",
        "plt.xlabel('epoch')\n",
        "plt.ylabel('loss')\n",
        "plt.show()"
      ],
      "metadata": {
        "colab": {
          "base_uri": "https://localhost:8080/",
          "height": 449
        },
        "id": "YCyWsuCc1qo1",
        "outputId": "967d3a71-0e87-404d-9b41-1e96afd4e905"
      },
      "execution_count": 81,
      "outputs": [
        {
          "output_type": "display_data",
          "data": {
            "text/plain": [
              "<Figure size 640x480 with 1 Axes>"
            ],
            "image/png": "[encoded data removed]"
          },
          "metadata": {}
        }
      ]
    },
    {
      "cell_type": "code",
      "source": [
        "# evalute the model\n",
        "accuracy = model.accuracy(x_test, y_test)\n",
        "print(f\"Accuracy: {accuracy:.2f}%\")"
      ],
      "metadata": {
        "colab": {
          "base_uri": "https://localhost:8080/"
        },
        "id": "NLMxLc--rfpI",
        "outputId": "77423b42-e8a9-40ea-9920-1fd330e8367d"
      },
      "execution_count": 82,
      "outputs": [
        {
          "output_type": "stream",
          "name": "stdout",
          "text": [
            "Accuracy: 92.14%\n"
          ]
        }
      ]
    }
  ]
}